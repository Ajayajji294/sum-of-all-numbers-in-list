{
 "cells": [
  {
   "cell_type": "code",
   "execution_count": 3,
   "id": "70e09ac6",
   "metadata": {},
   "outputs": [
    {
     "name": "stdout",
     "output_type": "stream",
     "text": [
      "(8, 2, 3, 0, 7)\n",
      "20\n"
     ]
    },
    {
     "data": {
      "text/plain": [
       "20"
      ]
     },
     "execution_count": 3,
     "metadata": {},
     "output_type": "execute_result"
    }
   ],
   "source": [
    "def sum_of_numbers(numbers):\n",
    "    print(numbers)\n",
    "    total=0\n",
    "    for i in numbers:\n",
    "        total +=i\n",
    "    print(total)\n",
    "    return total\n",
    "    \n",
    "    \n",
    "sum_of_numbers((8,2,3,0,7))"
   ]
  },
  {
   "cell_type": "code",
   "execution_count": null,
   "id": "a8009560",
   "metadata": {},
   "outputs": [],
   "source": []
  }
 ],
 "metadata": {
  "kernelspec": {
   "display_name": "Python 3",
   "language": "python",
   "name": "python3"
  },
  "language_info": {
   "codemirror_mode": {
    "name": "ipython",
    "version": 3
   },
   "file_extension": ".py",
   "mimetype": "text/x-python",
   "name": "python",
   "nbconvert_exporter": "python",
   "pygments_lexer": "ipython3",
   "version": "3.8.8"
  }
 },
 "nbformat": 4,
 "nbformat_minor": 5
}
